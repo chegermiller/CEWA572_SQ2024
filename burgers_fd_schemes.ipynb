{
 "cells": [
  {
   "cell_type": "markdown",
   "source": [
    "# Nonlinear PDEs, Inviscid Burgers Equation\n",
    "\n",
    "In this notebook, we explore numerical solutions to the one dimensional, inviscid Burgers equation. This equation is a first order, nonlinear hyperbolic PDE. The Burgers equation can describe the development of a shock wave or discontinuity, or any wave where one part of the wave is travelling faster than another part of the wave. \n",
    "\n",
    "$$ \\frac{\\partial u}{\\partial t} + u\\frac{\\partial u}{\\partial x} = 0 $$\n",
    "\n",
    "where $u(x,t)$ is the propagation velocity of the disturbance. "
   ],
   "metadata": {
    "collapsed": false
   },
   "id": "de1512b8c20ecb0"
  },
  {
   "cell_type": "code",
   "execution_count": null,
   "outputs": [],
   "source": [
    "import numpy as np\n",
    "import matplotlib.pyplot as plt"
   ],
   "metadata": {
    "collapsed": false
   },
   "id": "d4d4c61ccb52d2c1"
  },
  {
   "cell_type": "code",
   "execution_count": 8,
   "outputs": [],
   "source": [
    "# define the solution space\n",
    "x0 = 0\n",
    "xL = 1\n",
    "L = xL-x0\n",
    "\n",
    "# define the spatial discretization\n",
    "n = 999\n",
    "dx = L/(n+1)\n",
    "x = np.arange(x0,xL,dx)\n",
    "\n",
    "# define the temporal discretization\n",
    "T = 1\n",
    "dt = dx/5\n",
    "m = np.round(T/dt)\n",
    "\n",
    "# initial conditions\n",
    "t0 = 0\n",
    "u0 = 1\n",
    "\n",
    "# define Courant numbers\n",
    "S = dt/dx\n",
    "print('dt =', dt)\n",
    "print('dx =', dx)\n",
    "print('S = ',S)"
   ],
   "metadata": {
    "collapsed": false,
    "ExecuteTime": {
     "end_time": "2024-05-14T15:59:07.118595Z",
     "start_time": "2024-05-14T15:59:07.113326Z"
    }
   },
   "id": "12d3726f29e9d3a4"
  },
  {
   "cell_type": "markdown",
   "source": [
    "Since the matrix $A$ and vector $B$ in our typical numerical solution has terms that depend on $u_{j}^{k}$, we will define $A$ and $B$ below within the timestepping routine."
   ],
   "metadata": {
    "collapsed": false
   },
   "id": "14c124b7a7db3e2e"
  },
  {
   "cell_type": "code",
   "execution_count": 9,
   "outputs": [
    {
     "name": "stdout",
     "output_type": "stream",
     "text": [
      "S =  0.2\n",
      "m =  5000\n",
      "n =  999\n"
     ]
    }
   ],
   "source": [
    "# initialize the matrices\n",
    "A = np.zeros((n,n))\n",
    "B = np.zeros((n, 1))"
   ],
   "metadata": {
    "collapsed": false,
    "ExecuteTime": {
     "end_time": "2024-05-14T15:59:07.887697Z",
     "start_time": "2024-05-14T15:59:07.880380Z"
    }
   },
   "id": "226cc53e6b2993c3"
  },
  {
   "cell_type": "code",
   "execution_count": 11,
   "outputs": [],
   "source": [
    "x = np.arange(x0+dx,xL,dx)\n",
    "t0 = 0"
   ],
   "metadata": {
    "collapsed": false,
    "ExecuteTime": {
     "end_time": "2024-05-14T15:59:17.532093Z",
     "start_time": "2024-05-14T15:59:17.524298Z"
    }
   },
   "id": "88bcf2e13d39b973"
  },
  {
   "cell_type": "code",
   "execution_count": 12,
   "outputs": [],
   "source": [
    "C = np.empty((m, n))\n",
    "C_xt = np.zeros_like(x)\n",
    "C[0, :] = C_xt\n",
    "t = np.zeros((m))\n",
    "t[0] = t0"
   ],
   "metadata": {
    "collapsed": false,
    "ExecuteTime": {
     "end_time": "2024-05-14T15:59:18.264925Z",
     "start_time": "2024-05-14T15:59:18.255010Z"
    }
   },
   "id": "1dd3b027ae2b9b38"
  },
  {
   "cell_type": "code",
   "execution_count": null,
   "outputs": [],
   "source": [
    "for i in range(m-1):\n",
    "    C_n = np.matmul(A, C_xt[:, np.newaxis]) + B\n",
    "    C[i+1, :] = C_n.flatten()\n",
    "    C_xt = C_n.flatten()\n",
    "    t[i+1] = t[i] + dt"
   ],
   "metadata": {
    "collapsed": false
   },
   "id": "f6f1f86fa228db11"
  },
  {
   "cell_type": "code",
   "execution_count": null,
   "outputs": [],
   "source": [
    "fig, ax = plt.subplots(1)\n",
    "c = ax.pcolormesh(x, t, C, cmap='inferno', vmin=0, vmax=1)\n",
    "ax.set_xlabel('x')\n",
    "ax.set_ylabel('t')\n",
    "ax.set_title('Tracer C(x,t)')\n",
    "plt.colorbar(c)"
   ],
   "metadata": {
    "collapsed": false
   },
   "id": "48a7b3a716b5bdf4"
  },
  {
   "cell_type": "code",
   "execution_count": null,
   "outputs": [],
   "source": [
    "# Analytical solution\n",
    "C_ana = c0/2 * (erfc((x-u*T)/(2*np.sqrt(kappa*T))) + np.exp(u*x/kappa) * erfc((x+u*T)/(2*np.sqrt(kappa*T))))\n",
    "\n",
    "fig, ax = plt.subplots(1)\n",
    "ax.plot(x, C_ana, 'k', lw=2)\n",
    "ax.plot(x, C[-1, :], 'b.', lw=1)\n",
    "#ax.set_xscale('log')\n",
    "ax.set_xlim([0, 250])\n",
    "ax.set_ylim([0, 1])\n",
    "ax.set_xlabel('x')\n",
    "ax.set_ylabel('C')\n",
    "ax.set_title('Tracer C at t=T')"
   ],
   "metadata": {
    "collapsed": false
   },
   "id": "f3d9bc7717a9bf1e"
  }
 ],
 "metadata": {
  "kernelspec": {
   "display_name": "Python 3",
   "language": "python",
   "name": "python3"
  },
  "language_info": {
   "codemirror_mode": {
    "name": "ipython",
    "version": 2
   },
   "file_extension": ".py",
   "mimetype": "text/x-python",
   "name": "python",
   "nbconvert_exporter": "python",
   "pygments_lexer": "ipython2",
   "version": "2.7.6"
  }
 },
 "nbformat": 4,
 "nbformat_minor": 5
}
