{
 "cells": [
  {
   "cell_type": "markdown",
   "source": [
    "# Finite Difference Methods\n",
    "\n",
    "In this notebook, we will explore finite differences methods applied to initial value problems, which are referred to as **marching schemes** that step through time to solve ODEs or PDEs. \n",
    "\n",
    "Consider the first order ODE:\n",
    "$$ \\frac{dy}{dt} = f(t,y) $$\n",
    "which is a differential equation for $y(t)$, and where $f(t,y)$ is called the derivative function and $y(t_{0}) = y_{0}$ is the initial condition.\n",
    "\n",
    "***"
   ],
   "metadata": {
    "collapsed": false
   },
   "id": "dd11b4ffaa497ad1"
  },
  {
   "cell_type": "markdown",
   "source": [
    "## Forward Euler\n",
    "\n",
    "The **Forward Euler** finite difference scheme is an explicit marching scheme, with the form:\n",
    "\n",
    "$$ \\frac{y_{i+1} - y_{i}}{\\Delta t} = f(t_{i}, y_{i}) $$\n",
    "\n",
    "or, rearranging:\n",
    "\n",
    "$$ y_{i+1} = y_{i} + \\Delta t f(t_{i}, y_{i}) $$\n",
    "\n",
    "This scheme is explicit because the solution for $y_{i+1}$ is only dependent on the values of $y$ for times prior to $i+1$, e.g., $i$."
   ],
   "metadata": {
    "collapsed": false
   },
   "id": "af7c0c09e2937255"
  },
  {
   "cell_type": "markdown",
   "source": [
    "In the code blocks below, develop code to solve the first order ODE $\\frac{dy}{dt} = -y$.\n",
    "\n",
    "1. Identify the derivative function.\n",
    "1. Define the start and end times, $t_{0}$ and $t_{N}$. \n",
    "1. Define the initial condition, $y_{0}$.\n",
    "1. Define the discretization of time, $t$, by defining the number of nodes, $N$.\n",
    "1. Calculate $\\Delta t$.\n",
    "1. Write a loop to march (step) through the nodes ($t_{0}:\\Delta t:t_{N}$) and solve the Forward Euler equation for the value of $y_{i+1}$."
   ],
   "metadata": {
    "collapsed": false
   },
   "id": "4d8a9e9681477c9"
  },
  {
   "cell_type": "code",
   "execution_count": 10,
   "outputs": [],
   "source": [
    "import numpy as np\n",
    "import matplotlib.pyplot as plt"
   ],
   "metadata": {
    "collapsed": false,
    "ExecuteTime": {
     "end_time": "2024-04-08T17:04:57.414064Z",
     "start_time": "2024-04-08T17:04:57.405550Z"
    }
   },
   "id": "b4ae4cf5e73bb116"
  },
  {
   "cell_type": "code",
   "execution_count": 11,
   "outputs": [],
   "source": [
    "\"\"\"\n",
    "\n",
    ":param f: derivative function f(y,t)\n",
    ":param t0: interval start\n",
    ":param tN: interval end\n",
    ":param y0: initial condition\n",
    ":param N: number of nodes\n",
    ":return: y: computed solution; t: independent variable\n",
    "\"\"\"\n",
    "\n",
    "t0 = 0\n",
    "tN = 10\n",
    "y0 = 1\n",
    "N = 101\n",
    "# f = -y # the derivative function"
   ],
   "metadata": {
    "collapsed": false,
    "ExecuteTime": {
     "end_time": "2024-04-08T17:04:58.116534Z",
     "start_time": "2024-04-08T17:04:58.106868Z"
    }
   },
   "id": "95e96ecf3b3132a8"
  },
  {
   "cell_type": "code",
   "execution_count": 12,
   "outputs": [
    {
     "name": "stdout",
     "output_type": "stream",
     "text": [
      "dt =  0.1\n"
     ]
    }
   ],
   "source": [
    "dt = np.abs(tN-t0)/(N-1)\n",
    "print('dt = ', dt)\n",
    "yi = y0 # initial condition\n",
    "ti = t0 # initial start\n",
    "\n",
    "y = np.zeros([N]) # initialize arrays\n",
    "t = np.zeros([N])\n",
    "y[0] = yi\n",
    "t[0] = ti\n",
    "\n",
    "for i in range(1, N):\n",
    "    # Advance the node\n",
    "    tn = ti+dt # the subscript n denotes (i+1) and the subscript i denotes (i) in the Forward Euler equation\n",
    "    # Solve for y_{i+1}\n",
    "    yn = yi+dt*(-yi) \n",
    "    \n",
    "    t[i] = tn\n",
    "    y[i] = yn\n",
    "    \n",
    "    # Reset for next loop\n",
    "    ti = tn\n",
    "    yi = yn"
   ],
   "metadata": {
    "collapsed": false,
    "ExecuteTime": {
     "end_time": "2024-04-08T17:05:00.456300Z",
     "start_time": "2024-04-08T17:05:00.444069Z"
    }
   },
   "id": "a37632a0f4583835"
  },
  {
   "cell_type": "markdown",
   "source": [
    "Let's plot the results of our solution for $y(t)$."
   ],
   "metadata": {
    "collapsed": false
   },
   "id": "d772242d728a4805"
  },
  {
   "cell_type": "code",
   "execution_count": 13,
   "outputs": [
    {
     "data": {
      "text/plain": "Text(0, 0.5, 'y(t)')"
     },
     "execution_count": 13,
     "metadata": {},
     "output_type": "execute_result"
    },
    {
     "data": {
      "text/plain": "<Figure size 640x480 with 1 Axes>",
      "image/png": "[encoded data removed]"
     },
     "metadata": {},
     "output_type": "display_data"
    }
   ],
   "source": [
    "fig, ax = plt.subplots(1)\n",
    "ax.plot(t, y, '-o', c='b', linewidth=2)\n",
    "ax.set_xlim([0, 10])\n",
    "ax.set_xlabel('t')\n",
    "ax.set_ylabel('y(t)')"
   ],
   "metadata": {
    "collapsed": false,
    "ExecuteTime": {
     "end_time": "2024-04-08T17:05:03.131904Z",
     "start_time": "2024-04-08T17:05:03.003557Z"
    }
   },
   "id": "67e2349afe2a3244"
  },
  {
   "cell_type": "markdown",
   "source": [
    "Now let's evaluate the numerical stability of the solution for different values of $\\Delta t$. First, we will develop a generic function to solve an arbitrary first order ODE $\\frac{du}{dt} = f(u,t)$ using a Forward Euler marching scheme. Note: we use Python's inline lambda function to define our derivative function. Matlab has similar functionality."
   ],
   "metadata": {
    "collapsed": false
   },
   "id": "56fc759590c86d67"
  },
  {
   "cell_type": "code",
   "execution_count": 14,
   "outputs": [],
   "source": [
    "def forward_euler(f, a, b, ua, n):\n",
    "    \"\"\"\n",
    "    \n",
    "    :param f: derivative function, defined as a lambda function, see comment above\n",
    "    :param a: independent variable start\n",
    "    :param b: independent variable end\n",
    "    :param ua: initial condition\n",
    "    :param n: number of nodes\n",
    "    :return: u: computed solution; t: independent variable\n",
    "    \"\"\"\n",
    "    \n",
    "    dh = np.abs(b-a)/(n-1)\n",
    "    print('dt = ', dh)\n",
    "    ui = ua # initial condition\n",
    "    ti = a # initial start\n",
    "    \n",
    "    u = np.zeros([n]) # initialize arrays\n",
    "    t = np.zeros([n])\n",
    "    u[0] = ui\n",
    "    t[0] = ti\n",
    "    \n",
    "    for i in range(1, n):\n",
    "        # Advance the node\n",
    "        tn = ti+dh\n",
    "        # Solve for next step\n",
    "        un = ui+dh*(f(ui))\n",
    "        \n",
    "        t[i] = tn\n",
    "        u[i] = un\n",
    "        \n",
    "        # Reset for next loop\n",
    "        ti = tn\n",
    "        ui = un\n",
    "        \n",
    "    return u, t"
   ],
   "metadata": {
    "collapsed": false,
    "ExecuteTime": {
     "end_time": "2024-04-08T17:05:05.865422Z",
     "start_time": "2024-04-08T17:05:05.862586Z"
    }
   },
   "id": "d43bee7a6f9a4eb1"
  },
  {
   "cell_type": "markdown",
   "source": [
    "Now, we can call this generic function with different values of $N$ to evaluate the solution of the first order ODE above $\\frac{dy}{dt} = -y$ for different values of $\\Delta t$. We also can compare now to the analytical solution for this ODE, $y(t) = e^{-t}$."
   ],
   "metadata": {
    "collapsed": false
   },
   "id": "474b4eeae2b4aa16"
  },
  {
   "cell_type": "code",
   "execution_count": 15,
   "outputs": [
    {
     "name": "stdout",
     "output_type": "stream",
     "text": [
      "dt =  0.05025125628140704\n",
      "dt =  0.10101010101010101\n",
      "dt =  0.13513513513513514\n",
      "dt =  0.20408163265306123\n",
      "dt =  0.43478260869565216\n",
      "dt =  1.0\n",
      "dt =  1.6666666666666667\n"
     ]
    },
    {
     "data": {
      "text/plain": "<matplotlib.legend.Legend at 0x128d3fa50>"
     },
     "execution_count": 15,
     "metadata": {},
     "output_type": "execute_result"
    },
    {
     "data": {
      "text/plain": "<Figure size 640x480 with 1 Axes>",
      "image/png": "[encoded data removed]"
     },
     "metadata": {},
     "output_type": "display_data"
    }
   ],
   "source": [
    "f = lambda y: -y\n",
    "t0 = 0\n",
    "tN= 10\n",
    "y0 = 1\n",
    "\n",
    "fig, ax = plt.subplots(1)\n",
    "for N in [200, 100, 75, 50, 24, 11, 7]:\n",
    "    u, t = forward_euler(f, t0, tN, y0, N)\n",
    "    ax.plot(t, u, '-', linewidth=2, label='dt = '+\"{:.2f}\".format(np.abs(tN-t0)/(N-1)))\n",
    "\n",
    "# analytical solution\n",
    "t = np.linspace(t0, tN, 100)\n",
    "ax.plot(t, np.exp(-t), '-', color='k', linewidth=2, label='analytical')\n",
    "\n",
    "ax.set_xlim([0, 10])\n",
    "ax.set_xlabel('t')\n",
    "ax.set_ylabel('y(t)')\n",
    "ax.legend()"
   ],
   "metadata": {
    "collapsed": false,
    "ExecuteTime": {
     "end_time": "2024-04-08T17:05:09.055629Z",
     "start_time": "2024-04-08T17:05:08.842081Z"
    }
   },
   "id": "d24e7a1ec5f516df"
  },
  {
   "cell_type": "markdown",
   "source": [
    "Describe the results of the numerical stability experiment here:\n",
    "\n"
   ],
   "metadata": {
    "collapsed": false
   },
   "id": "198f6a947e83bbf7"
  },
  {
   "cell_type": "markdown",
   "source": [
    "***\n",
    "\n",
    "## Backward Euler\n",
    "\n",
    "The **Backward Euler** finite difference scheme is an implicit marching scheme, with the form:\n",
    "\n",
    "$$ \\frac{y_{i+1} - y_{i}}{\\Delta t} = f(t_{i+1}, y_{i+1}) $$\n",
    "\n",
    "or, rearranging:\n",
    "\n",
    "$$ y_{i+1} = y_{i} + \\Delta t f(t_{i+1}, y_{i+1}) $$\n",
    "\n",
    "This scheme is implicit because the solution for $y_{i+1}$ is dependent on the values of $y$ at the current time, $i+1$. Because of the implicit nature of the solution, we require additional numerical methods (e.g., Newton-Raphson method) to iteratively arrive at the solution at each step.\n",
    "\n",
    "In the code blocks below, develop a generic function to solve an arbitrary first order ODE $\\frac{du}{dt} = f(u,t)$ using a Backward Euler marching scheme."
   ],
   "metadata": {
    "collapsed": false
   },
   "id": "c3acc9ecc7d1d6c6"
  },
  {
   "cell_type": "code",
   "execution_count": null,
   "outputs": [],
   "source": [
    "def backward_euler(f, df, a, b, ua, n, tol=0.01):\n",
    "    \"\"\"\n",
    "    \n",
    "    :param f: derivative function, defined as a lambda function, see comment above\n",
    "    :param df: derivative of the derivative function with respect to the dependent variable, defined as a lambda function, see comment above\n",
    "    :param a: independent variable start\n",
    "    :param b: independent variable end\n",
    "    :param ua: initial condition\n",
    "    :param n: number of nodes\n",
    "    :param tol: tolerance for solving Newton-Raphson method\n",
    "    :return: u: computed solution; t: independent variable\n",
    "    \"\"\"\n",
    "    \n",
    "    dh = np.abs(b-a)/(n-1)\n",
    "    print('dt = ', dh)\n",
    "    ui = ua # initial condition\n",
    "    ti = a # initial start\n",
    "    \n",
    "    u = np.zeros([n]) # initialize arrays\n",
    "    t = np.zeros([n])\n",
    "    u[0] = ui\n",
    "    t[0] = ti\n",
    "    \n",
    "    for i in range(1, n):\n",
    "        # Advance the node\n",
    "        tn = ti+dh\n",
    "        \n",
    "        # Solve for next step iteratively\n",
    "        dsol = 0.1 # error in the solution\n",
    "        while dsol > tol:\n",
    "            un = ui-(f(ui)*dh+u[i-1]-ui)/(df(ui)*dh-1)\n",
    "            dsol = np.abs(un-ui)\n",
    "            ui = un            \n",
    "        \n",
    "        t[i] = tn\n",
    "        u[i] = un\n",
    "        \n",
    "        # Reset for next loop\n",
    "        ti = tn\n",
    "        \n",
    "    return u, t"
   ],
   "metadata": {
    "collapsed": false
   },
   "id": "8b177605f5100bf0"
  },
  {
   "cell_type": "markdown",
   "source": [
    "Now let's investigate the solution to the first order ODE above $\\frac{dy}{dt} = -y$ for different values of $\\Delta t$, as we did for the Forward Euler method:"
   ],
   "metadata": {
    "collapsed": false
   },
   "id": "b63cc877f46bfdce"
  },
  {
   "cell_type": "code",
   "execution_count": null,
   "outputs": [],
   "source": [],
   "metadata": {
    "collapsed": false
   },
   "id": "136f9c7a41b9b538"
  },
  {
   "cell_type": "markdown",
   "source": [
    "Describe the results of the numerical stability experiment here:\n",
    "\n"
   ],
   "metadata": {
    "collapsed": false
   },
   "id": "1a6f156cfcc85bc3"
  },
  {
   "cell_type": "markdown",
   "source": [
    "***\n",
    "\n",
    "## Weighted Euler Method\n",
    "\n",
    "The **Weighted Euler** scheme combines the Forward and Backward Euler methods in the form:\n",
    "\n",
    "$$  y_{i+1} = y_{i} + \\Delta t [\\theta f(t_{i+1},y_{i+1}) + (1-\\theta)f(t_{i},y_{i})] $$\n",
    "\n",
    "where $0 \\le \\theta \\le 1$, such that for $\\theta = 0$ and $\\theta = 1$, this formulation reduces to a Forward or Backward Euler method, respectively."
   ],
   "metadata": {
    "collapsed": false
   },
   "id": "1dd457175b8fb37"
  },
  {
   "cell_type": "markdown",
   "source": [
    "***\n",
    "\n",
    "## Corrected Euler Method\n",
    "\n",
    "While the Forward, Backward, and Weighted Euler schemes are simple from a computational point of view, they are first-order approximations and thus have relatively large errors. A common scheme which has second-order accuracy, the simplicity of the Forward Euler scheme, and the stability of the Backward Euler scheme is the **Corrected Euler** scheme (also referred to as the Modified Euler scheme), with the form:\n",
    "\n",
    "$$ y_{*} = y_{i} + \\Delta t f(t_{i},y_{i} $$\n",
    "$$ y_{i+1} = y_{i} + \\frac{\\Delta t}{2}[f(t_{i},y_{i}) + f(t_{i+1},y_{*})] $$\n",
    "\n",
    "Note that the approximation of $y_{*}$ is the Forward Euler method.\n",
    "\n",
    "Unlike the methods previously discussed, the Corrected Euler method is a two stage method. Two separate calculations are made to obtain the solution for $y_{i+1}$. These types of multi-stage methods are also referred to as Predictor-Corrector methods.\n",
    "\n",
    "In the code blocks below, develop a generic function to solve an arbitrary first order ODE $\\frac{du}{dt} = f(u,t)$ using a Corrected Euler marching scheme."
   ],
   "metadata": {
    "collapsed": false
   },
   "id": "e041ff4c825c76fe"
  },
  {
   "cell_type": "code",
   "execution_count": null,
   "outputs": [],
   "source": [],
   "metadata": {
    "collapsed": false
   },
   "id": "bd3c4b6f9f92d38a"
  },
  {
   "cell_type": "markdown",
   "source": [
    "Now let's investigate the solution to the first order ODE above $\\frac{dy}{dt} = -y$ for different values of $\\Delta t$, as we did for the other methods:"
   ],
   "metadata": {
    "collapsed": false
   },
   "id": "35e99e89f5feb138"
  },
  {
   "cell_type": "code",
   "execution_count": null,
   "outputs": [],
   "source": [],
   "metadata": {
    "collapsed": false
   },
   "id": "f59438592e291fd1"
  },
  {
   "cell_type": "markdown",
   "source": [
    "***\n",
    "\n",
    "## Runge-Kutta Methods\n",
    "\n",
    "Runge-Kutta (R-K) methods are a more accurate and stable class of single step, multi-stage marching schemes. Here, we develop the two-stage and four-stage R-K schemes.\n",
    "\n",
    "### Four-stage R-K Method \n",
    "\n",
    "The four-stage R-K method is a fourth-order approximation with predictor-corrector stages in the form:\n",
    "\n",
    "$$ y_{*} = y_{i} + (\\frac{\\Delta t}{2})f_{i} $$\n",
    "$$ y_{**} = y_{i} + (\\frac{\\Delta t}{2})f_{*} $$\n",
    "$$ y_{***} = y_{i} + \\Delta t f_{**} $$\n",
    "$$ y_{i+1} = y_{i} + (\\frac{\\Delta t}{6})[f_{i} + 2f_{*} + 2f_{**} + f_{***}] $$\n",
    "\n",
    "where\n",
    "$$ f_{*} = f(t_{i} + \\frac{\\Delta t}{2}, y_{*}) $$\n",
    "$$ f_{**} = f(t_{i} + \\frac{\\Delta t}{2}, y_{**}) $$\n",
    "$$ f_{***} = f(t_{i} + \\Delta t, y_{***}) $$\n",
    "\n",
    "In the code blocks below, develop a generic function to solve an arbitrary first order ODE $\\frac{du}{dt} = f(u,t)$ using a four-stage R-K method!"
   ],
   "metadata": {
    "collapsed": false
   },
   "id": "f4dfbe23c2ecdb87"
  },
  {
   "cell_type": "code",
   "execution_count": null,
   "outputs": [],
   "source": [],
   "metadata": {
    "collapsed": false
   },
   "id": "25553ba954bceff5"
  },
  {
   "cell_type": "markdown",
   "source": [],
   "metadata": {
    "collapsed": false
   },
   "id": "390c5a1f5d8f963d"
  }
 ],
 "metadata": {
  "kernelspec": {
   "display_name": "Python 3",
   "language": "python",
   "name": "python3"
  },
  "language_info": {
   "codemirror_mode": {
    "name": "ipython",
    "version": 2
   },
   "file_extension": ".py",
   "mimetype": "text/x-python",
   "name": "python",
   "nbconvert_exporter": "python",
   "pygments_lexer": "ipython2",
   "version": "2.7.6"
  }
 },
 "nbformat": 4,
 "nbformat_minor": 5
}
