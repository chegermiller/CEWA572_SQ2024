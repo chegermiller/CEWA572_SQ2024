{
 "cells": [
  {
   "cell_type": "markdown",
   "source": [
    "# 1D Diffusion Equation\n",
    "\n",
    "In this notebook, we will use the **Forward Time Centered Space** (FTCS) scheme to solve the 1D partial differential equation for diffusion:\n",
    "\n",
    "$$ \\frac{\\partial \\theta}{\\partial t} = \\kappa \\frac{\\partial^{2}\\theta}{\\partial x^{2}} $$\n",
    "\n",
    "where $\\theta$ is some scalar or vector tracer, such as temperature, salinity, dye concentration, hydraulic head, or velocity, and $\\kappa$ is the diffusion coefficient (diffusivity) of the material. In the work below, we assume diffusion is isotropic, and diffusivity is thus constant and uniform, and that we are modeling heat conduction in a 1D metal rod.\n",
    "\n",
    "As the name implies, the FTCS scheme uses a forward Euler method to approximate the temporal derivative and a centered method to approximate the spatial derivative in the 1D diffusion equation, as:\n",
    "\n",
    "$$ T_{j}^{k+1} = s(T_{j+1}^{k} + T_{j-1}^{k}) + (1-2s)T_{j}^{k} $$\n",
    "\n",
    "where \n",
    "\n",
    "$$ s = \\frac{\\kappa \\Delta t}{\\Delta x^{2}} $$\n",
    "\n",
    "To solve the diffusion equation for unique solutions, we will need to impose initial conditions and boundary conditions. Consider the general boundary conditions:\n",
    "\n",
    "**Dirichlet**\n",
    "$$ \\text{Initial Condition: } T(x,t=0) = T_{j}^{0} = f(x_{j}) $$\n",
    "$$ \\text{Boundary Condition: } T(x=0,t) = T_{0}^{k} = g_{1}(t^{k}) $$\n",
    "\n",
    "**Neumann**\n",
    "$$ \\text{Boundary Condition: } \\frac{\\partial T(L,t)}{\\partial x} = \\frac{\\partial T_{n+1}^{k}}{\\partial x} = g_{2}(t^{k}) $$\n",
    "\n",
    "which can be simplified and written as:\n",
    "$$ T_{n+1}^{k} = \\Delta x g_{2}(t^{k}) + T_{n}^{k} $$\n",
    "\n",
    "where $f$, $g_{1}$, and $g_{2}$ are arbitrary functions.\n",
    "***\n",
    "\n",
    "The numerical implementation of the FTCS scheme (and other schemes we will implement from here on out in class) rely on formulating the FTCS equation above in matrix form. For example, for a spatial grid with 3 internal points $x_{0}$, $x_{1}$, $x_{2}$, $x_{3}$, $x_{4}$ where $x_{0}$ and $x_{4}$ are boundary locations. The solution for these spatial points at a given time $k+1$ can be expressed in matrix form as:\n",
    "\n",
    "$$ \\bar{T}^{k+1} = \\begin{bmatrix}\n",
    "T_{1}^{k+1} \\\\ T_{2}^{k+1} \\\\ T_{3}^{k+1}\n",
    "\\end{bmatrix} = \\begin{bmatrix}\n",
    "1-2s & s & 0 \\\\\n",
    "s & 1-2s & s \\\\\n",
    "0 & s & 1-2s\n",
    "\\end{bmatrix} \\begin{bmatrix}\n",
    "T_{1}^{k} \\\\ T_{2}^{k} \\\\ T_{3}^{k}\n",
    "\\end{bmatrix} + \\begin{bmatrix}\n",
    "sT_{0}^{k} \\\\ 0 \\\\ sT_{4}^{k}\n",
    "\\end{bmatrix} $$\n",
    "\n",
    "Substituting in the boundary conditions defined above:\n",
    "\n",
    "$$ \\bar{T}^{k+1} = \\begin{bmatrix}\n",
    "T_{1}^{k+1} \\\\ T_{2}^{k+1} \\\\ T_{3}^{k+1}\n",
    "\\end{bmatrix} = \\begin{bmatrix}\n",
    "1-2s & s & 0 \\\\\n",
    "s & 1-2s & s \\\\\n",
    "0 & s & 1-s\n",
    "\\end{bmatrix} \\begin{bmatrix}\n",
    "T_{1}^{k} \\\\ T_{2}^{k} \\\\ T_{3}^{k}\n",
    "\\end{bmatrix} + \\begin{bmatrix}\n",
    "sg_{1}(t^{k}) \\\\ 0 \\\\ s\\Delta x g_{2}(t^{k})\n",
    "\\end{bmatrix} $$\n",
    "\n",
    "or\n",
    "\n",
    "$$ \\bar{T}^{k+1} = A\\bar{T}^{k+1} + B $$\n",
    "\n",
    "This formulation is how we will implement the FTCS scheme."
   ],
   "metadata": {
    "collapsed": false
   },
   "id": "c942c7a5dbf29107"
  },
  {
   "cell_type": "code",
   "execution_count": 2,
   "outputs": [],
   "source": [
    "import numpy as np\n",
    "import matplotlib.pyplot as plt"
   ],
   "metadata": {
    "collapsed": false,
    "ExecuteTime": {
     "end_time": "2024-04-29T16:48:56.063753Z",
     "start_time": "2024-04-29T16:48:55.448520Z"
    }
   },
   "id": "9f716cbb4cf5cb08"
  },
  {
   "cell_type": "markdown",
   "source": [
    "First, define the solution space and parameters, and initialize the matrices."
   ],
   "metadata": {
    "collapsed": false
   },
   "id": "138faae353af4e45"
  },
  {
   "cell_type": "code",
   "execution_count": 3,
   "outputs": [
    {
     "name": "stdout",
     "output_type": "stream",
     "text": [
      "s =  0.31999999999999995\n"
     ]
    }
   ],
   "source": [
    "# dimensions of the rod\n",
    "x0 = 0\n",
    "xL = 1\n",
    "L = xL-x0\n",
    "\n",
    "# define the spatial discretization\n",
    "n = 39\n",
    "dX = L/(n+1)\n",
    "\n",
    "# define the temporal discretization\n",
    "m = 600\n",
    "T = 12000 # total time\n",
    "dT = T/m\n",
    "\n",
    "# define parameters\n",
    "kappa = 10**(-5)\n",
    "\n",
    "# define s\n",
    "s = kappa*dT/(dX**2)\n",
    "print('s = ',s)"
   ],
   "metadata": {
    "collapsed": false,
    "ExecuteTime": {
     "end_time": "2024-04-29T16:48:56.807512Z",
     "start_time": "2024-04-29T16:48:56.794858Z"
    }
   },
   "id": "2602f77261531871"
  },
  {
   "cell_type": "code",
   "execution_count": 6,
   "outputs": [],
   "source": [
    "# initialize the matrix A and vector B\n",
    "A = np.zeros((n,n))\n",
    "\n",
    "for i in range(n):\n",
    "    if i == 0:\n",
    "        A[i, i] = 1-(2*s)\n",
    "        A[i, i+1] = s\n",
    "    elif i == n-1:\n",
    "        A[i, i-1] = s\n",
    "        A[i, i] = 1-(2*s)\n",
    "    else:\n",
    "        A[i, i] = 1-(2*s)\n",
    "        A[i, i-1] = s\n",
    "        A[i, i+1] = s\n",
    "\n",
    "B = np.zeros((n, 1))"
   ],
   "metadata": {
    "collapsed": false,
    "ExecuteTime": {
     "end_time": "2024-04-29T16:49:09.974654Z",
     "start_time": "2024-04-29T16:49:09.952126Z"
    }
   },
   "id": "af6c5b371be3931b"
  },
  {
   "cell_type": "markdown",
   "source": [
    "Next, impose boundary conditions."
   ],
   "metadata": {
    "collapsed": false
   },
   "id": "222bf84e515a74b0"
  },
  {
   "cell_type": "code",
   "execution_count": 7,
   "outputs": [],
   "source": [
    "# apply Dirichlet BCs\n",
    "B[0] = s\n",
    "B[n-1] = s\n",
    "\n",
    "# apply Neumann BCs\n",
    "#A[n-1, n-1] = 1-s\n",
    "#B[n-1] = 2*s*dX"
   ],
   "metadata": {
    "collapsed": false,
    "ExecuteTime": {
     "end_time": "2024-04-29T16:49:12.008833Z",
     "start_time": "2024-04-29T16:49:12.001643Z"
    }
   },
   "id": "cc4f616be65ce2f0"
  },
  {
   "cell_type": "markdown",
   "source": [
    "Create the spatial discretization."
   ],
   "metadata": {
    "collapsed": false
   },
   "id": "62e054d80dd89116"
  },
  {
   "cell_type": "code",
   "execution_count": 8,
   "outputs": [],
   "source": [
    "x = np.arange(x0+dX,xL,dX)\n",
    "t0 = 0"
   ],
   "metadata": {
    "collapsed": false,
    "ExecuteTime": {
     "end_time": "2024-04-29T16:49:14.042625Z",
     "start_time": "2024-04-29T16:49:14.040003Z"
    }
   },
   "id": "f0be0731cb3a5bf2"
  },
  {
   "cell_type": "markdown",
   "source": [
    "Impose and plot initial conditions."
   ],
   "metadata": {
    "collapsed": false
   },
   "id": "2e011ea7d557528b"
  },
  {
   "cell_type": "code",
   "execution_count": 9,
   "outputs": [
    {
     "data": {
      "text/plain": "(39,)"
     },
     "execution_count": 9,
     "metadata": {},
     "output_type": "execute_result"
    },
    {
     "data": {
      "text/plain": "<Figure size 640x480 with 1 Axes>",
      "image/png": "[encoded data removed]"
     },
     "metadata": {},
     "output_type": "display_data"
    }
   ],
   "source": [
    "U_xt = 100*np.sin(np.pi*x/L)\n",
    "\n",
    "fig, ax = plt.subplots(1)\n",
    "ax.plot(x, U_xt)\n",
    "ax.set_xlabel('x')\n",
    "ax.set_ylabel('T(0)')"
   ],
   "metadata": {
    "collapsed": false,
    "ExecuteTime": {
     "end_time": "2024-04-29T16:52:51.230186Z",
     "start_time": "2024-04-29T16:52:51.049366Z"
    }
   },
   "id": "108bd7352054dc0d"
  },
  {
   "cell_type": "markdown",
   "source": [
    "Initialize solution matrices."
   ],
   "metadata": {
    "collapsed": false
   },
   "id": "26a16cf8a33ec279"
  },
  {
   "cell_type": "code",
   "execution_count": null,
   "outputs": [],
   "source": [
    "U = np.zeros((m,n))\n",
    "U[0, :] = U_xt\n",
    "t = np.zeros((m))\n",
    "t[0] = t0"
   ],
   "metadata": {
    "collapsed": false
   },
   "id": "bab8c5ac5050dc1f"
  },
  {
   "cell_type": "markdown",
   "source": [
    "Finally, march forward in time (with some probably unnecessary shape-shifting)."
   ],
   "metadata": {
    "collapsed": false
   },
   "id": "7b4db1a7b3eb4e5e"
  },
  {
   "cell_type": "code",
   "execution_count": null,
   "outputs": [],
   "source": [
    "# March in time\n",
    "for i in range(m-1):\n",
    "    U_xt_n = np.matmul(A, U_xt[:, np.newaxis]) + B\n",
    "    U[i+1, :] = U_xt_n.flatten()\n",
    "    U_xt = U_xt_n.flatten()\n",
    "    t[i+1] = t[i] + dT    "
   ],
   "metadata": {
    "collapsed": false
   },
   "id": "a40e2f6dbb1d1ced"
  },
  {
   "cell_type": "markdown",
   "source": [
    "Plot the results!"
   ],
   "metadata": {
    "collapsed": false
   },
   "id": "2094b6ad4b4e096a"
  },
  {
   "cell_type": "code",
   "execution_count": null,
   "outputs": [],
   "source": [
    "fig, ax = plt.subplots(1)\n",
    "c = ax.pcolormesh(x, t/T, U, cmap='inferno')\n",
    "ax.set_xlabel('x/L')\n",
    "ax.set_ylabel('t/T')\n",
    "ax.set_title('Temperature T(x,t)'\n",
    ")\n",
    "plt.colorbar(c)"
   ],
   "metadata": {
    "collapsed": false
   },
   "id": "360df1a8108666a"
  }
 ],
 "metadata": {
  "kernelspec": {
   "display_name": "Python 3",
   "language": "python",
   "name": "python3"
  },
  "language_info": {
   "codemirror_mode": {
    "name": "ipython",
    "version": 2
   },
   "file_extension": ".py",
   "mimetype": "text/x-python",
   "name": "python",
   "nbconvert_exporter": "python",
   "pygments_lexer": "ipython2",
   "version": "2.7.6"
  }
 },
 "nbformat": 4,
 "nbformat_minor": 5
}
