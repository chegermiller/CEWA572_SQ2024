{
 "cells": [
  {
   "cell_type": "markdown",
   "source": [
    "# CEWA572 Practice Midterm\n",
    "\n",
    "The general form of the advection-diffusion equation is given as:\n",
    "\n",
    "$$     \\frac{\\partial c}{\\partial t} + u \\frac{\\partial c}{\\partial x} = \\kappa \\frac{\\partial^{2} c}{\\partial x^{2}}\n",
    "$$\n",
    "\n",
    "where $c$ is the tracer concentration, $u$ is the advective velocity, and $\\kappa$ is the diffusion coefficient, or diffusivity."
   ],
   "metadata": {
    "collapsed": false
   },
   "id": "d06f1a01567dac5e"
  },
  {
   "cell_type": "code",
   "execution_count": 2,
   "outputs": [],
   "source": [
    "import numpy as np\n",
    "import matplotlib.pyplot as plt\n",
    "from scipy.special import erfc"
   ],
   "metadata": {
    "collapsed": false,
    "ExecuteTime": {
     "end_time": "2024-05-06T16:55:28.072401Z",
     "start_time": "2024-05-06T16:55:19.436387Z"
    }
   },
   "id": "7960a57410836aaf"
  },
  {
   "cell_type": "markdown",
   "source": [
    "### 1.a. (5 pts)\n",
    "\n",
    "Derive a set of Crank-Nicolson finite difference equations to solve the advection-diffusion equation. Note that the Crank-Nicolson scheme is an average of the forward-time centered-space and backward-time centered-space schemes such that an equation like:\n",
    "\n",
    "$$     \\frac{\\partial c}{\\partial t} = \\kappa \\frac{\\partial^{2} c}{\\partial x^{2}} $$\n",
    "\n",
    "can be discretized using the \"theta method\" as:\n",
    "\n",
    "$$     \\frac{c^{k+1}_{i}-c^{k}_{i}}{\\Delta t} = \\kappa \\left [ \\theta \\left \\lbrace \\frac{c^{k+1}_{i+1}+c^{k+1}_{i-1}-2c^{k+1}_{i}}{(\\Delta x)^{2}} \\right \\rbrace + (1-\\theta) \\left \\lbrace \\frac{c^{k}_{i+1}+c^{k}_{i-1}-2c^{k}_{i}}{(\\Delta x)^{2}} \\right \\rbrace \\right ] $$\n",
    "\n",
    "with $theta$ = 0.5.\n",
    "\n",
    "**This equation above is just an example, please derive the Crank-Nicolson scheme for the advection-diffusion equation.**"
   ],
   "metadata": {
    "collapsed": false
   },
   "id": "5a2d3785fe9828e1"
  },
  {
   "cell_type": "markdown",
   "source": [
    "The problem setup for the following parts of the question is as follows.\n",
    "\n",
    "**Consider a porous rod of length $L$ = 50 m, subject to the initial and boundary conditions:**\n",
    "\n",
    "$$         c =c_{0} \\quad t=0 \\quad \\text{ for all } \\quad 0 \\leq x \\leq L \\\\\n",
    "        c = c_{1} \\quad t > 0 \\quad \\text{ for all } \\quad x=0 \\\\\n",
    "        c =c_{0} \\quad t > 0 \\quad \\text{ for all } \\quad x=L  $$\n",
    "        \n",
    " **with $u$=5.0 m/day, $\\kappa$=0.3333 m$^{2}$/day, $c_{0}$=0 mg/L and $c_{1}$=100 mg/L.**"
   ],
   "metadata": {
    "collapsed": false
   },
   "id": "1cfd327d7d119c2d"
  },
  {
   "cell_type": "markdown",
   "source": [
    "### 1.b. (5 pts)\n",
    "\n",
    "Use the analytical solution coded below to plot the distribution of the concentration $c$ versus $x$ for $t$ = 1 and 5 days. Note you will need to assign the variables."
   ],
   "metadata": {
    "collapsed": false
   },
   "id": "75a801fbff61d6e8"
  },
  {
   "cell_type": "code",
   "execution_count": 1,
   "outputs": [
    {
     "ename": "NameError",
     "evalue": "name 'c0' is not defined",
     "output_type": "error",
     "traceback": [
      "\u001B[0;31m---------------------------------------------------------------------------\u001B[0m",
      "\u001B[0;31mNameError\u001B[0m                                 Traceback (most recent call last)",
      "Cell \u001B[0;32mIn[1], line 1\u001B[0m\n\u001B[0;32m----> 1\u001B[0m C_ana \u001B[38;5;241m=\u001B[39m \u001B[43mc0\u001B[49m\u001B[38;5;241m/\u001B[39m\u001B[38;5;241m2\u001B[39m \u001B[38;5;241m*\u001B[39m (erfc((x\u001B[38;5;241m-\u001B[39mu\u001B[38;5;241m*\u001B[39mT)\u001B[38;5;241m/\u001B[39m(\u001B[38;5;241m2\u001B[39m\u001B[38;5;241m*\u001B[39mnp\u001B[38;5;241m.\u001B[39msqrt(kappa\u001B[38;5;241m*\u001B[39mT))) \u001B[38;5;241m+\u001B[39m np\u001B[38;5;241m.\u001B[39mexp(u\u001B[38;5;241m*\u001B[39mx\u001B[38;5;241m/\u001B[39mkappa) \u001B[38;5;241m*\u001B[39m erfc((x\u001B[38;5;241m+\u001B[39mu\u001B[38;5;241m*\u001B[39mT)\u001B[38;5;241m/\u001B[39m(\u001B[38;5;241m2\u001B[39m\u001B[38;5;241m*\u001B[39mnp\u001B[38;5;241m.\u001B[39msqrt(kappa\u001B[38;5;241m*\u001B[39mT))))\n",
      "\u001B[0;31mNameError\u001B[0m: name 'c0' is not defined"
     ]
    }
   ],
   "source": [
    "C_ana = c0/2 * (erfc((x-u*T)/(2*np.sqrt(kappa*T))) + np.exp(u*x/kappa) * erfc((x+u*T)/(2*np.sqrt(kappa*T))))"
   ],
   "metadata": {
    "collapsed": false,
    "ExecuteTime": {
     "end_time": "2024-05-06T16:28:03.737762Z",
     "start_time": "2024-05-06T16:28:03.489861Z"
    }
   },
   "id": "f9300f4f841e71c8"
  },
  {
   "cell_type": "markdown",
   "source": [
    "### 1.c. (5 pts)\n",
    "\n",
    "Using the Crank-Nicolson scheme derived in part (a), write the code below to obtain a numerical solution of tracer concentration $c$ variability versus $x$ at $t$ = 1 and 5 days. **Use a $\\Delta x$ = 1.0 m and $\\Delta t$ = 0.05 day. Plot your results and compare your solution to the analytical solution.**"
   ],
   "metadata": {
    "collapsed": false
   },
   "id": "7499b763e03397d"
  },
  {
   "cell_type": "code",
   "execution_count": 2,
   "outputs": [],
   "source": [],
   "metadata": {
    "collapsed": false,
    "ExecuteTime": {
     "end_time": "2024-05-06T16:55:29.630827Z",
     "start_time": "2024-05-06T16:55:29.622422Z"
    }
   },
   "id": "dc4be499e06fb516"
  },
  {
   "cell_type": "markdown",
   "source": [
    "***\n",
    "\n",
    "One possible finite difference approximation of the advective term\n",
    "\n",
    "$$ u\\frac{\\partial c}{\\partial x}$$\n",
    "\n",
    "is based on using the values of concentration at a spatial node (grid point) and the node directly upgradient, or:\n",
    "\n",
    "$$ \\frac{\\partial c}{\\partial x} = \\frac{c_{i} - c_{i-1}}{\\Delta x}$$"
   ],
   "metadata": {
    "collapsed": false
   },
   "id": "3b38cb29e1f4117f"
  },
  {
   "cell_type": "markdown",
   "source": [
    "### 1.d. (20 points)\n",
    "\n",
    "Derive the finite difference approximation for the advection-diffusion equation using this upgradient form of the advective term. Use the Crank-Nicolson scheme for the diffusion stepping scheme."
   ],
   "metadata": {
    "collapsed": false
   },
   "id": "2d5ad4c700ad10cc"
  },
  {
   "cell_type": "markdown",
   "source": [
    "### 1.e. (20 points)\n",
    "\n",
    "Modify your original Crank-Nicolson program to use the new approximation to solve the problem from part (c). Plot the concentration profiles at days 1 and 5 using the new program and the original program. Note that the new curve exhibits more diffusion than the curves you produced originally and that the oscillations go away."
   ],
   "metadata": {
    "collapsed": false
   },
   "id": "e419edb3b5ce7877"
  },
  {
   "cell_type": "code",
   "execution_count": 2,
   "outputs": [],
   "source": [],
   "metadata": {
    "collapsed": false,
    "ExecuteTime": {
     "end_time": "2024-05-06T16:56:02.689200Z",
     "start_time": "2024-05-06T16:56:02.683407Z"
    }
   },
   "id": "84f9330ce9d7e160"
  },
  {
   "cell_type": "markdown",
   "source": [
    "### 1.f (45 points) \n",
    "\n",
    "Why does this new numerical approximation damp oscillations? To determine why and under what conditions this occurs, define the following:\n",
    "\n",
    "- $\\kappa$ is the value used for the diffusion coefficient when using the central-in-space approximation of the advective term\n",
    "- $\\kappa^{*}$ is the value used for the diffusion coefficient when using the up-gradient approximation of the advective term\n",
    "\n",
    "The relationship between the two is $\\kappa = \\kappa^{*} - Z$, where $Z$ is another type of diffusion coefficient. \n",
    "\n",
    "Come up with a general formula that can be used to determine the value of $Z$. This formula should be a function of known quantities. **Hint:** Check the course notes on the concepts of numerical diffusion (Chapter 6). \n",
    "\n",
    "Now calculate $Z$ using the new general formula, and adjust the value of $\\kappa$ in your new program accordingly. Show that the results match the original solutions as shown in part (c) and that the oscillations reappear."
   ],
   "metadata": {
    "collapsed": false
   },
   "id": "48de2ed8e744ea52"
  },
  {
   "cell_type": "code",
   "execution_count": null,
   "outputs": [],
   "source": [],
   "metadata": {
    "collapsed": false
   },
   "id": "a446fd284a2a9fad"
  }
 ],
 "metadata": {
  "kernelspec": {
   "display_name": "Python 3",
   "language": "python",
   "name": "python3"
  },
  "language_info": {
   "codemirror_mode": {
    "name": "ipython",
    "version": 2
   },
   "file_extension": ".py",
   "mimetype": "text/x-python",
   "name": "python",
   "nbconvert_exporter": "python",
   "pygments_lexer": "ipython2",
   "version": "2.7.6"
  }
 },
 "nbformat": 4,
 "nbformat_minor": 5
}
