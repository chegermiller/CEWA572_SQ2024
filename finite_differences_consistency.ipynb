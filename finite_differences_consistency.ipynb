{
 "cells": [
  {
   "cell_type": "markdown",
   "source": [
    "# Consistency in Finite Difference schemes\n",
    "\n",
    "A numerical scheme is considered **consistent** if the approximations of the derivatives become arbitrary close to the true derivatives as the discretization step (e.g., $\\Delta x$ or $\\Delta t$) become smaller. Mathematically, this can be represented as:\n",
    "$$ \\lim_{\\Delta x \\to 0}  T.E. = 0$$ \n",
    "\n",
    "Consistent numerical schemes accurately represents the behavior of the differential equation. Convergent numerical schemes approach the true solution as $\\Delta t$ or $\\Delta x$ become smaller. \n",
    "\n",
    "Recall the Lax Equivalence Theorem which states that $ consistency + stability \\Longleftrightarrow convergence $.\n",
    "\n",
    "Consistency was trivial for our linear, first-order ODE example. However, for PDEs, we find schemes that are conditionally consistent.\n",
    "\n",
    "***\n",
    "\n",
    "Consider the 1D linear advection equation:\n",
    "$$ \\frac{\\partial u}{\\partial t} + c\\frac{\\partial u}{\\partial x} = 0 $$\n",
    "where $c$ is a constant. The Lax scheme is stable and second order in space.\n",
    "\n",
    "$$ \\frac{u_{j}^{n+1} - \\frac{1}{2}(u_{j+1}^{n} + u_{j-1}^{n})}{\\Delta t} + a\\frac{u_{j+1}^{n} - u_{j-1}^{n}}{2\\Delta x} = 0 $$\n",
    "\n",
    "We can rearrange to solve for ${u_{j}^{n+1}$: \n",
    "\n",
    "This scheme is consistent only when $\\frac{\\Delta x^{2}}{\\Delta t} \\rightarrow 0$ as $(\\Delta t, \\Delta x) \\rightarrow (0, 0)$."
   ],
   "metadata": {
    "collapsed": false
   },
   "id": "81be5087770616d7"
  },
  {
   "cell_type": "code",
   "execution_count": null,
   "outputs": [],
   "source": [],
   "metadata": {
    "collapsed": false
   },
   "id": "6b79b5bc63b8f1fa"
  }
 ],
 "metadata": {
  "kernelspec": {
   "display_name": "Python 3",
   "language": "python",
   "name": "python3"
  },
  "language_info": {
   "codemirror_mode": {
    "name": "ipython",
    "version": 2
   },
   "file_extension": ".py",
   "mimetype": "text/x-python",
   "name": "python",
   "nbconvert_exporter": "python",
   "pygments_lexer": "ipython2",
   "version": "2.7.6"
  }
 },
 "nbformat": 4,
 "nbformat_minor": 5
}
